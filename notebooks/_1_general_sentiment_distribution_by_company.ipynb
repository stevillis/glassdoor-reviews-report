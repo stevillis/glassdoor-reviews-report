{
 "cells": [
  {
   "cell_type": "code",
   "execution_count": null,
   "metadata": {},
   "outputs": [],
   "source": [
    "import os\n",
    "import sys\n",
    "\n",
    "notebook_dir = os.path.dirname(os.path.abspath(os.getcwd()))\n",
    "sys.path.append(os.path.join(notebook_dir, \".\"))"
   ]
  },
  {
   "cell_type": "code",
   "execution_count": null,
   "metadata": {},
   "outputs": [],
   "source": [
    "import pandas as pd\n",
    "import seaborn as sns\n",
    "import numpy as np\n",
    "import matplotlib.pyplot as plt\n",
    "\n",
    "from report_config import ReportConfig"
   ]
  },
  {
   "cell_type": "code",
   "execution_count": null,
   "metadata": {},
   "outputs": [],
   "source": [
    "reviews_df = pd.read_csv(\"../glassdoor_reviews_predicted.csv\")"
   ]
  },
  {
   "cell_type": "code",
   "execution_count": 3,
   "metadata": {},
   "outputs": [],
   "source": [
    "reviews_df[\"sentiment\"] = reviews_df[\"sentiment\"].apply(lambda x: 2 if x == -1 else x)"
   ]
  },
  {
   "cell_type": "code",
   "execution_count": 4,
   "metadata": {},
   "outputs": [],
   "source": [
    "reviews_df[\"predicted_sentiment_label\"] = reviews_df[\"predicted_sentiment\"].map(\n",
    "    ReportConfig.SENTIMENT_DICT\n",
    ")"
   ]
  },
  {
   "cell_type": "code",
   "execution_count": 5,
   "metadata": {},
   "outputs": [],
   "source": [
    "review_counts = reviews_df.groupby(\"company\")[\"review_text\"].count()"
   ]
  },
  {
   "cell_type": "code",
   "execution_count": 6,
   "metadata": {},
   "outputs": [
    {
     "data": {
      "text/plain": [
       "115.0909090909091"
      ]
     },
     "execution_count": 6,
     "metadata": {},
     "output_type": "execute_result"
    }
   ],
   "source": [
    "mean_reviews = review_counts.mean()\n",
    "mean_reviews"
   ]
  },
  {
   "cell_type": "code",
   "execution_count": 7,
   "metadata": {},
   "outputs": [
    {
     "data": {
      "text/plain": [
       "42.0"
      ]
     },
     "execution_count": 7,
     "metadata": {},
     "output_type": "execute_result"
    }
   ],
   "source": [
    "median_reviews = review_counts.median()\n",
    "median_reviews"
   ]
  },
  {
   "cell_type": "code",
   "execution_count": 8,
   "metadata": {},
   "outputs": [
    {
     "data": {
      "text/plain": [
       "190.81951310095772"
      ]
     },
     "execution_count": 8,
     "metadata": {},
     "output_type": "execute_result"
    }
   ],
   "source": [
    "std_reviews = review_counts.std()\n",
    "std_reviews"
   ]
  },
  {
   "cell_type": "code",
   "execution_count": 9,
   "metadata": {},
   "outputs": [],
   "source": [
    "def choose_mean_or_median(mean, median, std):\n",
    "    if std <= mean * 10 / 100:\n",
    "        return mean\n",
    "\n",
    "    return median "
   ]
  },
  {
   "cell_type": "code",
   "execution_count": 10,
   "metadata": {},
   "outputs": [
    {
     "data": {
      "text/plain": [
       "42.0"
      ]
     },
     "execution_count": 10,
     "metadata": {},
     "output_type": "execute_result"
    }
   ],
   "source": [
    "choose_mean_or_median(mean_reviews, median_reviews, std_reviews)"
   ]
  },
  {
   "cell_type": "code",
   "execution_count": 11,
   "metadata": {},
   "outputs": [
    {
     "data": {
      "text/plain": [
       "company\n",
       "Original Soluções Tecnológicas                                 2\n",
       "Intelecto Sistemas                                             6\n",
       "Datweb                                                        12\n",
       "MTI - Empresa Mato-grossense de Tecnologia da Informação      14\n",
       "Puma Sistemas                                                 16\n",
       "Ganso Sistemas                                                30\n",
       "Coplan Consultoria e Planejamento                             32\n",
       "Tecnomapas                                                    34\n",
       "Fundação Uniselva                                             36\n",
       "Liberali                                                      36\n",
       "MOVERE (Brazil)                                               40\n",
       "Totem Treinamento e Consultoria em TI                         44\n",
       "Log, Lab. Inteligência Digital                                50\n",
       "NBS Informática                                               54\n",
       "Eco Centauro                                                  74\n",
       "Agenda Assessoria                                             96\n",
       "Abaco Tecnologia de Informação Ltda                          110\n",
       "DSS Tecnologia                                               122\n",
       "Redeflex                                                     190\n",
       "Grupo Bom Futuro                                             324\n",
       "Cigam Software Corporativo                                   354\n",
       "Amaggi                                                       856\n",
       "Name: review_text, dtype: int64"
      ]
     },
     "execution_count": 11,
     "metadata": {},
     "output_type": "execute_result"
    }
   ],
   "source": [
    "sorted_counts = review_counts.sort_values()\n",
    "sorted_counts"
   ]
  },
  {
   "cell_type": "markdown",
   "metadata": {},
   "source": [
    "## Countplot horizontal"
   ]
  },
  {
   "cell_type": "code",
   "execution_count": 12,
   "metadata": {},
   "outputs": [],
   "source": [
    "reviews_df = reviews_df.sort_values(by=\"predicted_sentiment\").reset_index()"
   ]
  },
  {
   "cell_type": "code",
   "execution_count": 13,
   "metadata": {},
   "outputs": [
    {
     "data": {
      "text/html": [
       "<div>\n",
       "<style scoped>\n",
       "    .dataframe tbody tr th:only-of-type {\n",
       "        vertical-align: middle;\n",
       "    }\n",
       "\n",
       "    .dataframe tbody tr th {\n",
       "        vertical-align: top;\n",
       "    }\n",
       "\n",
       "    .dataframe thead th {\n",
       "        text-align: right;\n",
       "    }\n",
       "</style>\n",
       "<table border=\"1\" class=\"dataframe\">\n",
       "  <thead>\n",
       "    <tr style=\"text-align: right;\">\n",
       "      <th></th>\n",
       "      <th>index</th>\n",
       "      <th>review_id</th>\n",
       "      <th>company</th>\n",
       "      <th>employee_role</th>\n",
       "      <th>employee_detail</th>\n",
       "      <th>review_text</th>\n",
       "      <th>review_date</th>\n",
       "      <th>star_rating</th>\n",
       "      <th>sentiment</th>\n",
       "      <th>annotated</th>\n",
       "      <th>predicted_sentiment</th>\n",
       "      <th>sentiment_label</th>\n",
       "      <th>predicted_sentiment_label</th>\n",
       "    </tr>\n",
       "  </thead>\n",
       "  <tbody>\n",
       "    <tr>\n",
       "      <th>0</th>\n",
       "      <td>1265</td>\n",
       "      <td>64925288</td>\n",
       "      <td>Cigam Software Corporativo</td>\n",
       "      <td>Estagiário</td>\n",
       "      <td>Funcionário(a) atual</td>\n",
       "      <td>não encontrei nenhum até hoje</td>\n",
       "      <td>2022-05-31</td>\n",
       "      <td>5.0</td>\n",
       "      <td>0</td>\n",
       "      <td>1</td>\n",
       "      <td>0</td>\n",
       "      <td>Neutro</td>\n",
       "      <td>Neutro</td>\n",
       "    </tr>\n",
       "    <tr>\n",
       "      <th>1</th>\n",
       "      <td>2023</td>\n",
       "      <td>45698887</td>\n",
       "      <td>Grupo Bom Futuro</td>\n",
       "      <td>Conferente II</td>\n",
       "      <td>Funcionário(a) atual, menos de um ano</td>\n",
       "      <td>No momento não há nenhuma reclamação sobre a e...</td>\n",
       "      <td>2021-04-18</td>\n",
       "      <td>5.0</td>\n",
       "      <td>0</td>\n",
       "      <td>1</td>\n",
       "      <td>0</td>\n",
       "      <td>Neutro</td>\n",
       "      <td>Neutro</td>\n",
       "    </tr>\n",
       "  </tbody>\n",
       "</table>\n",
       "</div>"
      ],
      "text/plain": [
       "   index  review_id                     company  employee_role  \\\n",
       "0   1265   64925288  Cigam Software Corporativo     Estagiário   \n",
       "1   2023   45698887            Grupo Bom Futuro  Conferente II   \n",
       "\n",
       "                         employee_detail  \\\n",
       "0                   Funcionário(a) atual   \n",
       "1  Funcionário(a) atual, menos de um ano   \n",
       "\n",
       "                                         review_text review_date  star_rating  \\\n",
       "0                      não encontrei nenhum até hoje  2022-05-31          5.0   \n",
       "1  No momento não há nenhuma reclamação sobre a e...  2021-04-18          5.0   \n",
       "\n",
       "   sentiment  annotated  predicted_sentiment sentiment_label  \\\n",
       "0          0          1                    0          Neutro   \n",
       "1          0          1                    0          Neutro   \n",
       "\n",
       "  predicted_sentiment_label  \n",
       "0                    Neutro  \n",
       "1                    Neutro  "
      ]
     },
     "execution_count": 13,
     "metadata": {},
     "output_type": "execute_result"
    }
   ],
   "source": [
    "reviews_df.head(2)"
   ]
  },
  {
   "cell_type": "markdown",
   "metadata": {},
   "source": [
    "Create a column to order predicted_sentiment as `positive`, `negative` and `neutral` instead of `neutral`, `positive` and `negative`"
   ]
  },
  {
   "cell_type": "code",
   "execution_count": 14,
   "metadata": {},
   "outputs": [],
   "source": [
    "conditions = [\n",
    "    (reviews_df[\"predicted_sentiment\"] == 0),\n",
    "    (reviews_df[\"predicted_sentiment\"] == 1),\n",
    "    (reviews_df[\"predicted_sentiment\"] == 2),\n",
    "]\n",
    "\n",
    "values = [3, 1, 2]\n",
    "\n",
    "reviews_df[\"predicted_sentiment_plot\"] = np.select(conditions, values)"
   ]
  },
  {
   "cell_type": "code",
   "execution_count": 15,
   "metadata": {},
   "outputs": [
    {
     "data": {
      "text/html": [
       "<div>\n",
       "<style scoped>\n",
       "    .dataframe tbody tr th:only-of-type {\n",
       "        vertical-align: middle;\n",
       "    }\n",
       "\n",
       "    .dataframe tbody tr th {\n",
       "        vertical-align: top;\n",
       "    }\n",
       "\n",
       "    .dataframe thead th {\n",
       "        text-align: right;\n",
       "    }\n",
       "</style>\n",
       "<table border=\"1\" class=\"dataframe\">\n",
       "  <thead>\n",
       "    <tr style=\"text-align: right;\">\n",
       "      <th></th>\n",
       "      <th>index</th>\n",
       "      <th>review_id</th>\n",
       "      <th>company</th>\n",
       "      <th>employee_role</th>\n",
       "      <th>employee_detail</th>\n",
       "      <th>review_text</th>\n",
       "      <th>review_date</th>\n",
       "      <th>star_rating</th>\n",
       "      <th>sentiment</th>\n",
       "      <th>annotated</th>\n",
       "      <th>predicted_sentiment</th>\n",
       "      <th>sentiment_label</th>\n",
       "      <th>predicted_sentiment_label</th>\n",
       "      <th>predicted_sentiment_plot</th>\n",
       "    </tr>\n",
       "  </thead>\n",
       "  <tbody>\n",
       "    <tr>\n",
       "      <th>0</th>\n",
       "      <td>1265</td>\n",
       "      <td>64925288</td>\n",
       "      <td>Cigam Software Corporativo</td>\n",
       "      <td>Estagiário</td>\n",
       "      <td>Funcionário(a) atual</td>\n",
       "      <td>não encontrei nenhum até hoje</td>\n",
       "      <td>2022-05-31</td>\n",
       "      <td>5.0</td>\n",
       "      <td>0</td>\n",
       "      <td>1</td>\n",
       "      <td>0</td>\n",
       "      <td>Neutro</td>\n",
       "      <td>Neutro</td>\n",
       "      <td>3</td>\n",
       "    </tr>\n",
       "    <tr>\n",
       "      <th>1</th>\n",
       "      <td>2023</td>\n",
       "      <td>45698887</td>\n",
       "      <td>Grupo Bom Futuro</td>\n",
       "      <td>Conferente II</td>\n",
       "      <td>Funcionário(a) atual, menos de um ano</td>\n",
       "      <td>No momento não há nenhuma reclamação sobre a e...</td>\n",
       "      <td>2021-04-18</td>\n",
       "      <td>5.0</td>\n",
       "      <td>0</td>\n",
       "      <td>1</td>\n",
       "      <td>0</td>\n",
       "      <td>Neutro</td>\n",
       "      <td>Neutro</td>\n",
       "      <td>3</td>\n",
       "    </tr>\n",
       "  </tbody>\n",
       "</table>\n",
       "</div>"
      ],
      "text/plain": [
       "   index  review_id                     company  employee_role  \\\n",
       "0   1265   64925288  Cigam Software Corporativo     Estagiário   \n",
       "1   2023   45698887            Grupo Bom Futuro  Conferente II   \n",
       "\n",
       "                         employee_detail  \\\n",
       "0                   Funcionário(a) atual   \n",
       "1  Funcionário(a) atual, menos de um ano   \n",
       "\n",
       "                                         review_text review_date  star_rating  \\\n",
       "0                      não encontrei nenhum até hoje  2022-05-31          5.0   \n",
       "1  No momento não há nenhuma reclamação sobre a e...  2021-04-18          5.0   \n",
       "\n",
       "   sentiment  annotated  predicted_sentiment sentiment_label  \\\n",
       "0          0          1                    0          Neutro   \n",
       "1          0          1                    0          Neutro   \n",
       "\n",
       "  predicted_sentiment_label  predicted_sentiment_plot  \n",
       "0                    Neutro                         3  \n",
       "1                    Neutro                         3  "
      ]
     },
     "execution_count": 15,
     "metadata": {},
     "output_type": "execute_result"
    }
   ],
   "source": [
    "reviews_df.head(2)"
   ]
  },
  {
   "cell_type": "code",
   "execution_count": 16,
   "metadata": {},
   "outputs": [
    {
     "data": {
      "text/plain": [
       "14"
      ]
     },
     "execution_count": 16,
     "metadata": {},
     "output_type": "execute_result"
    }
   ],
   "source": [
    "reviews_df[reviews_df[\"company\"].str.startswith(\"MTI\")][\"company\"].count()"
   ]
  },
  {
   "cell_type": "code",
   "execution_count": 17,
   "metadata": {},
   "outputs": [],
   "source": [
    "sentiment_counts = (\n",
    "    reviews_df.groupby([\"company\", \"predicted_sentiment_plot\"])\n",
    "    .size()\n",
    "    .unstack(fill_value=0)\n",
    ")\n",
    "\n",
    "sentiment_counts_reset = sentiment_counts.reset_index()\n",
    "sentiment_counts_reset.columns = [\"company\", \"1positive\", \"2negative\", \"3neutral\"]"
   ]
  },
  {
   "cell_type": "code",
   "execution_count": 18,
   "metadata": {},
   "outputs": [
    {
     "data": {
      "text/html": [
       "<div>\n",
       "<style scoped>\n",
       "    .dataframe tbody tr th:only-of-type {\n",
       "        vertical-align: middle;\n",
       "    }\n",
       "\n",
       "    .dataframe tbody tr th {\n",
       "        vertical-align: top;\n",
       "    }\n",
       "\n",
       "    .dataframe thead th {\n",
       "        text-align: right;\n",
       "    }\n",
       "</style>\n",
       "<table border=\"1\" class=\"dataframe\">\n",
       "  <thead>\n",
       "    <tr style=\"text-align: right;\">\n",
       "      <th>predicted_sentiment_plot</th>\n",
       "      <th>1</th>\n",
       "      <th>2</th>\n",
       "      <th>3</th>\n",
       "    </tr>\n",
       "    <tr>\n",
       "      <th>company</th>\n",
       "      <th></th>\n",
       "      <th></th>\n",
       "      <th></th>\n",
       "    </tr>\n",
       "  </thead>\n",
       "  <tbody>\n",
       "    <tr>\n",
       "      <th>Abaco Tecnologia de Informação Ltda</th>\n",
       "      <td>52</td>\n",
       "      <td>46</td>\n",
       "      <td>12</td>\n",
       "    </tr>\n",
       "    <tr>\n",
       "      <th>Agenda Assessoria</th>\n",
       "      <td>46</td>\n",
       "      <td>38</td>\n",
       "      <td>12</td>\n",
       "    </tr>\n",
       "    <tr>\n",
       "      <th>Amaggi</th>\n",
       "      <td>444</td>\n",
       "      <td>339</td>\n",
       "      <td>73</td>\n",
       "    </tr>\n",
       "    <tr>\n",
       "      <th>Cigam Software Corporativo</th>\n",
       "      <td>178</td>\n",
       "      <td>131</td>\n",
       "      <td>45</td>\n",
       "    </tr>\n",
       "    <tr>\n",
       "      <th>Coplan Consultoria e Planejamento</th>\n",
       "      <td>15</td>\n",
       "      <td>13</td>\n",
       "      <td>4</td>\n",
       "    </tr>\n",
       "    <tr>\n",
       "      <th>DSS Tecnologia</th>\n",
       "      <td>52</td>\n",
       "      <td>53</td>\n",
       "      <td>17</td>\n",
       "    </tr>\n",
       "    <tr>\n",
       "      <th>Datweb</th>\n",
       "      <td>7</td>\n",
       "      <td>4</td>\n",
       "      <td>1</td>\n",
       "    </tr>\n",
       "    <tr>\n",
       "      <th>Eco Centauro</th>\n",
       "      <td>38</td>\n",
       "      <td>28</td>\n",
       "      <td>8</td>\n",
       "    </tr>\n",
       "    <tr>\n",
       "      <th>Fundação Uniselva</th>\n",
       "      <td>20</td>\n",
       "      <td>15</td>\n",
       "      <td>1</td>\n",
       "    </tr>\n",
       "    <tr>\n",
       "      <th>Ganso Sistemas</th>\n",
       "      <td>16</td>\n",
       "      <td>11</td>\n",
       "      <td>3</td>\n",
       "    </tr>\n",
       "    <tr>\n",
       "      <th>Grupo Bom Futuro</th>\n",
       "      <td>171</td>\n",
       "      <td>112</td>\n",
       "      <td>41</td>\n",
       "    </tr>\n",
       "    <tr>\n",
       "      <th>Intelecto Sistemas</th>\n",
       "      <td>3</td>\n",
       "      <td>2</td>\n",
       "      <td>1</td>\n",
       "    </tr>\n",
       "    <tr>\n",
       "      <th>Liberali</th>\n",
       "      <td>16</td>\n",
       "      <td>19</td>\n",
       "      <td>1</td>\n",
       "    </tr>\n",
       "    <tr>\n",
       "      <th>Log, Lab. Inteligência Digital</th>\n",
       "      <td>24</td>\n",
       "      <td>20</td>\n",
       "      <td>6</td>\n",
       "    </tr>\n",
       "    <tr>\n",
       "      <th>MOVERE (Brazil)</th>\n",
       "      <td>20</td>\n",
       "      <td>16</td>\n",
       "      <td>4</td>\n",
       "    </tr>\n",
       "    <tr>\n",
       "      <th>MTI - Empresa Mato-grossense de Tecnologia da Informação</th>\n",
       "      <td>7</td>\n",
       "      <td>6</td>\n",
       "      <td>1</td>\n",
       "    </tr>\n",
       "    <tr>\n",
       "      <th>NBS Informática</th>\n",
       "      <td>26</td>\n",
       "      <td>26</td>\n",
       "      <td>2</td>\n",
       "    </tr>\n",
       "    <tr>\n",
       "      <th>Original Soluções Tecnológicas</th>\n",
       "      <td>1</td>\n",
       "      <td>1</td>\n",
       "      <td>0</td>\n",
       "    </tr>\n",
       "    <tr>\n",
       "      <th>Puma Sistemas</th>\n",
       "      <td>10</td>\n",
       "      <td>5</td>\n",
       "      <td>1</td>\n",
       "    </tr>\n",
       "    <tr>\n",
       "      <th>Redeflex</th>\n",
       "      <td>90</td>\n",
       "      <td>89</td>\n",
       "      <td>11</td>\n",
       "    </tr>\n",
       "    <tr>\n",
       "      <th>Tecnomapas</th>\n",
       "      <td>15</td>\n",
       "      <td>14</td>\n",
       "      <td>5</td>\n",
       "    </tr>\n",
       "    <tr>\n",
       "      <th>Totem Treinamento e Consultoria em TI</th>\n",
       "      <td>23</td>\n",
       "      <td>16</td>\n",
       "      <td>5</td>\n",
       "    </tr>\n",
       "  </tbody>\n",
       "</table>\n",
       "</div>"
      ],
      "text/plain": [
       "predicted_sentiment_plot                              1    2   3\n",
       "company                                                         \n",
       "Abaco Tecnologia de Informação Ltda                  52   46  12\n",
       "Agenda Assessoria                                    46   38  12\n",
       "Amaggi                                              444  339  73\n",
       "Cigam Software Corporativo                          178  131  45\n",
       "Coplan Consultoria e Planejamento                    15   13   4\n",
       "DSS Tecnologia                                       52   53  17\n",
       "Datweb                                                7    4   1\n",
       "Eco Centauro                                         38   28   8\n",
       "Fundação Uniselva                                    20   15   1\n",
       "Ganso Sistemas                                       16   11   3\n",
       "Grupo Bom Futuro                                    171  112  41\n",
       "Intelecto Sistemas                                    3    2   1\n",
       "Liberali                                             16   19   1\n",
       "Log, Lab. Inteligência Digital                       24   20   6\n",
       "MOVERE (Brazil)                                      20   16   4\n",
       "MTI - Empresa Mato-grossense de Tecnologia da I...    7    6   1\n",
       "NBS Informática                                      26   26   2\n",
       "Original Soluções Tecnológicas                        1    1   0\n",
       "Puma Sistemas                                        10    5   1\n",
       "Redeflex                                             90   89  11\n",
       "Tecnomapas                                           15   14   5\n",
       "Totem Treinamento e Consultoria em TI                23   16   5"
      ]
     },
     "execution_count": 18,
     "metadata": {},
     "output_type": "execute_result"
    }
   ],
   "source": [
    "sentiment_counts"
   ]
  },
  {
   "cell_type": "code",
   "execution_count": 19,
   "metadata": {},
   "outputs": [],
   "source": [
    "# & (\n",
    "#             sentiment_counts_reset[\"1positive\"]\n",
    "#             + sentiment_counts_reset[\"2negative\"]\n",
    "#             + sentiment_counts_reset[\"3neutral\"] >= min_reviews\n",
    "#         )"
   ]
  },
  {
   "cell_type": "code",
   "execution_count": 20,
   "metadata": {},
   "outputs": [],
   "source": [
    "def get_bad_rating_companies():\n",
    "    negative_greater_than_positive = sentiment_counts_reset[\n",
    "        sentiment_counts_reset[\"2negative\"] > sentiment_counts_reset[\"1positive\"]\n",
    "    ]\n",
    "\n",
    "    negative_greater_than_positive = negative_greater_than_positive.sort_values(\n",
    "        by=\"2negative\", ascending=False\n",
    "    ).reset_index()\n",
    "\n",
    "    return list(negative_greater_than_positive[\"company\"].values)"
   ]
  },
  {
   "cell_type": "code",
   "execution_count": 21,
   "metadata": {},
   "outputs": [],
   "source": [
    "def get_good_rating_companies():\n",
    "    positive_greater_than_negative = sentiment_counts_reset[\n",
    "        sentiment_counts_reset[\"1positive\"] > sentiment_counts_reset[\"2negative\"]\n",
    "    ]\n",
    "\n",
    "    positive_greater_than_negative = positive_greater_than_negative.sort_values(\n",
    "        by=\"1positive\", ascending=False\n",
    "    ).reset_index()\n",
    "\n",
    "    return list(positive_greater_than_negative[\"company\"].values)"
   ]
  },
  {
   "cell_type": "code",
   "execution_count": 22,
   "metadata": {},
   "outputs": [],
   "source": [
    "def get_neutral_rating_companies(min_reviews=0):\n",
    "    positive_equal_to_negative = sentiment_counts_reset[\n",
    "        sentiment_counts_reset[\"1positive\"] == sentiment_counts_reset[\"2negative\"]\n",
    "    ]\n",
    "\n",
    "    return list(positive_equal_to_negative[\"company\"].values)"
   ]
  },
  {
   "cell_type": "code",
   "execution_count": 23,
   "metadata": {},
   "outputs": [],
   "source": [
    "bad_rating_companies = get_bad_rating_companies()\n",
    "good_rating_companies = get_good_rating_companies()\n",
    "neutral_rating_companies = get_neutral_rating_companies()"
   ]
  },
  {
   "cell_type": "code",
   "execution_count": 24,
   "metadata": {},
   "outputs": [
    {
     "data": {
      "image/png": "[encoded data removed]",
      "text/plain": [
       "<Figure size 1000x800 with 1 Axes>"
      ]
     },
     "metadata": {},
     "output_type": "display_data"
    }
   ],
   "source": [
    "fig, ax = plt.subplots(1, figsize=(10, 8))\n",
    "\n",
    "# Plot\n",
    "company_countplot = sns.countplot(\n",
    "    data=reviews_df,\n",
    "    y=\"company\",\n",
    "    hue=\"predicted_sentiment_plot\",\n",
    "    order=reviews_df[\"company\"].value_counts().index,\n",
    "    ax=ax,\n",
    "    palette=[\n",
    "        ReportConfig.POSITIVE_SENTIMENT_COLOR,\n",
    "        ReportConfig.NEGATIVE_SENTIMENT_COLOR,\n",
    "        ReportConfig.NEUTRAL_SENTIMENT_COLOR,\n",
    "    ],\n",
    "    width=0.9,\n",
    ")\n",
    "\n",
    "# Highlight Companies\n",
    "for i, label in enumerate(ax.get_yticklabels()):\n",
    "    company_name = label.get_text()\n",
    "    if company_name in bad_rating_companies:\n",
    "        label.set_color(ReportConfig.NEGATIVE_SENTIMENT_COLOR)\n",
    "\n",
    "for i, label in enumerate(ax.get_yticklabels()):\n",
    "    company_name = label.get_text()\n",
    "    if company_name in good_rating_companies:\n",
    "        label.set_color(ReportConfig.POSITIVE_SENTIMENT_COLOR)\n",
    "\n",
    "for i, label in enumerate(ax.get_yticklabels()):\n",
    "    company_name = label.get_text()\n",
    "    if company_name in neutral_rating_companies:\n",
    "        label.set_color(ReportConfig.NEUTRAL_SENTIMENT_COLOR)\n",
    "\n",
    "# Plot Annotates\n",
    "for p in ax.patches:\n",
    "    ax.annotate(\n",
    "        text=f\"{p.get_width():.0f}\",\n",
    "        xy=(p.get_width() + 10, (p.get_y() + p.get_height() / 2) + 0.02),\n",
    "        ha=\"center\",\n",
    "        va=\"center\",\n",
    "        fontsize=6,\n",
    "        color=\"black\",\n",
    "        xytext=(0, 0),\n",
    "        textcoords=\"offset points\",\n",
    "    )\n",
    "\n",
    "## Top Companies Annotates\n",
    "y_min, y_max = ax.get_ylim()\n",
    "y_position = (y_min + y_max) / 2\n",
    "\n",
    "x_annonate = 200\n",
    "font_size_annotate = 12\n",
    "# Top Positive Companies Annotates\n",
    "ax.annotate(\n",
    "    \"Top 3 reviews positivos:\",\n",
    "    xy=(x_annonate, y_position - 3),\n",
    "    fontsize=font_size_annotate,\n",
    "    color=ReportConfig.POSITIVE_SENTIMENT_COLOR,\n",
    ")\n",
    "\n",
    "for index, company in enumerate(good_rating_companies[:3]):\n",
    "    ax.annotate(\n",
    "        f\"{index + 1}º: {company}\",\n",
    "        xy=(x_annonate, y_position - 3 + 0.6 + index * 0.6),\n",
    "        fontsize=font_size_annotate,\n",
    "        color=ReportConfig.POSITIVE_SENTIMENT_COLOR,\n",
    "    )\n",
    "\n",
    "# Top Negative Companies Annotates\n",
    "ax.annotate(\n",
    "    \"Top 3 reviews negativos:\",\n",
    "    xy=(x_annonate, y_position),\n",
    "    fontsize=font_size_annotate,\n",
    "    color=ReportConfig.NEGATIVE_SENTIMENT_COLOR,\n",
    ")\n",
    "\n",
    "for index, company in enumerate(bad_rating_companies[:3]):\n",
    "    ax.annotate(\n",
    "        f\"{index + 1}º: {company}\",\n",
    "        xy=(x_annonate, y_position + 0.6 + index * 0.6),\n",
    "        fontsize=font_size_annotate,\n",
    "        color=ReportConfig.NEGATIVE_SENTIMENT_COLOR,\n",
    "    )\n",
    "\n",
    "sns.despine(bottom=True)\n",
    "\n",
    "plt.xlabel(\"\")\n",
    "plt.xticks([])\n",
    "\n",
    "plt.ylabel(\"\")\n",
    "\n",
    "plt.title(\n",
    "    \"Distribuição de Sentimentos de Avaliações no Glassdoor por Empresa\",\n",
    "    fontdict={\n",
    "        \"weight\": \"bold\",\n",
    "        \"size\": ReportConfig.CHART_TITLE_FONT_SIZE,\n",
    "    },\n",
    "    loc=\"center\",\n",
    ")\n",
    "\n",
    "plt.legend(\n",
    "    title=\"Sentimento\", labels=[\"Positivo\", \"Negativo\", \"Neutro\"], loc=\"lower right\"\n",
    ")\n",
    "\n",
    "# plt.savefig(\n",
    "#     \"glassdoor_company_reviews_sentiment_distribution.png\",\n",
    "#     transparent=True,\n",
    "#     dpi=300,\n",
    "#     bbox_inches=\"tight\",\n",
    "# )\n",
    "plt.show()"
   ]
  }
 ],
 "metadata": {
  "kernelspec": {
   "display_name": "venv_sent_analysis",
   "language": "python",
   "name": "python3"
  },
  "language_info": {
   "codemirror_mode": {
    "name": "ipython",
    "version": 3
   },
   "file_extension": ".py",
   "mimetype": "text/x-python",
   "name": "python",
   "nbconvert_exporter": "python",
   "pygments_lexer": "ipython3",
   "version": "3.11.7"
  }
 },
 "nbformat": 4,
 "nbformat_minor": 2
}
