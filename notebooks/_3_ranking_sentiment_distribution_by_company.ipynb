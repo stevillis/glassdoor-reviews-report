{
 "cells": [
  {
   "cell_type": "code",
   "execution_count": null,
   "metadata": {},
   "outputs": [],
   "source": [
    "import pandas as pd\n",
    "import seaborn as sns\n",
    "import numpy as np\n",
    "import matplotlib.pyplot as plt\n",
    "\n",
    "from ..report_config import ReportConfig"
   ]
  },
  {
   "cell_type": "code",
   "execution_count": 2,
   "metadata": {},
   "outputs": [],
   "source": [
    "def get_bad_rating_companies(df):\n",
    "    negative_greater_than_positive = df[df[\"2negative\"] > df[\"1positive\"]]\n",
    "\n",
    "    negative_greater_than_positive = negative_greater_than_positive.sort_values(\n",
    "        by=\"2negative\", ascending=False\n",
    "    ).reset_index()\n",
    "\n",
    "    return list(negative_greater_than_positive[\"company\"].values)\n",
    "\n",
    "\n",
    "def get_good_rating_companies(df):\n",
    "    positive_greater_than_negative = df[df[\"1positive\"] > df[\"2negative\"]]\n",
    "\n",
    "    positive_greater_than_negative = positive_greater_than_negative.sort_values(\n",
    "        by=\"1positive\", ascending=False\n",
    "    ).reset_index()\n",
    "\n",
    "    return list(positive_greater_than_negative[\"company\"].values)\n",
    "\n",
    "\n",
    "def get_neutral_rating_companies(df):\n",
    "    positive_equal_to_negative = df[df[\"1positive\"] == df[\"2negative\"]]\n",
    "\n",
    "    return list(positive_equal_to_negative[\"company\"].values)"
   ]
  },
  {
   "cell_type": "code",
   "execution_count": null,
   "metadata": {},
   "outputs": [],
   "source": [
    "reviews_df = pd.read_csv(\"../glassdoor_reviews_predicted.csv\")"
   ]
  },
  {
   "cell_type": "code",
   "execution_count": 4,
   "metadata": {},
   "outputs": [
    {
     "name": "stdout",
     "output_type": "stream",
     "text": [
      "Média de avaliações por Empresa: 115\n"
     ]
    }
   ],
   "source": [
    "mean_reviews_count = len(reviews_df) / len(reviews_df[\"company\"].unique())\n",
    "print(f\"Média de avaliações por Empresa: {int(mean_reviews_count)}\")"
   ]
  },
  {
   "cell_type": "code",
   "execution_count": 5,
   "metadata": {},
   "outputs": [
    {
     "name": "stdout",
     "output_type": "stream",
     "text": [
      "Mediana de avaliações por Empresa: 42\n"
     ]
    }
   ],
   "source": [
    "review_counts_df = reviews_df.groupby(\"company\")[\"review_id\"].count()\n",
    "sorted_counts = review_counts_df.sort_values()\n",
    "median = sorted_counts.median()\n",
    "print(f\"Mediana de avaliações por Empresa: {int(median)}\")"
   ]
  },
  {
   "cell_type": "code",
   "execution_count": 6,
   "metadata": {},
   "outputs": [],
   "source": [
    "MIN_REVIEWS = int(median / 2)"
   ]
  },
  {
   "cell_type": "code",
   "execution_count": 7,
   "metadata": {},
   "outputs": [],
   "source": [
    "reviews_df[\"sentiment\"] = reviews_df[\"sentiment\"].apply(lambda x: 2 if x == -1 else x)"
   ]
  },
  {
   "cell_type": "code",
   "execution_count": 8,
   "metadata": {},
   "outputs": [],
   "source": [
    "reviews_df[\"predicted_sentiment_label\"] = reviews_df[\"predicted_sentiment\"].map(\n",
    "    ReportConfig.SENTIMENT_DICT\n",
    ")"
   ]
  },
  {
   "cell_type": "code",
   "execution_count": 9,
   "metadata": {},
   "outputs": [],
   "source": [
    "conditions = [\n",
    "    (reviews_df[\"predicted_sentiment\"] == 0),\n",
    "    (reviews_df[\"predicted_sentiment\"] == 1),\n",
    "    (reviews_df[\"predicted_sentiment\"] == 2),\n",
    "]\n",
    "\n",
    "values = [3, 1, 2]\n",
    "\n",
    "reviews_df[\"predicted_sentiment_plot\"] = np.select(conditions, values)"
   ]
  },
  {
   "cell_type": "code",
   "execution_count": 10,
   "metadata": {},
   "outputs": [
    {
     "data": {
      "text/html": [
       "<div>\n",
       "<style scoped>\n",
       "    .dataframe tbody tr th:only-of-type {\n",
       "        vertical-align: middle;\n",
       "    }\n",
       "\n",
       "    .dataframe tbody tr th {\n",
       "        vertical-align: top;\n",
       "    }\n",
       "\n",
       "    .dataframe thead th {\n",
       "        text-align: right;\n",
       "    }\n",
       "</style>\n",
       "<table border=\"1\" class=\"dataframe\">\n",
       "  <thead>\n",
       "    <tr style=\"text-align: right;\">\n",
       "      <th></th>\n",
       "      <th>review_id</th>\n",
       "      <th>company</th>\n",
       "      <th>employee_role</th>\n",
       "      <th>employee_detail</th>\n",
       "      <th>review_text</th>\n",
       "      <th>review_date</th>\n",
       "      <th>star_rating</th>\n",
       "      <th>sentiment</th>\n",
       "      <th>annotated</th>\n",
       "      <th>predicted_sentiment</th>\n",
       "      <th>predicted_sentiment_label</th>\n",
       "      <th>predicted_sentiment_plot</th>\n",
       "    </tr>\n",
       "  </thead>\n",
       "  <tbody>\n",
       "    <tr>\n",
       "      <th>0</th>\n",
       "      <td>82630669</td>\n",
       "      <td>Tecnomapas</td>\n",
       "      <td>Recepcionista</td>\n",
       "      <td>Ex-funcionário(a), mais de um ano</td>\n",
       "      <td>Companheirismo entre os colegas, oportunidade ...</td>\n",
       "      <td>2023-12-15</td>\n",
       "      <td>5.0</td>\n",
       "      <td>1</td>\n",
       "      <td>0</td>\n",
       "      <td>1</td>\n",
       "      <td>Positivo</td>\n",
       "      <td>1</td>\n",
       "    </tr>\n",
       "    <tr>\n",
       "      <th>1</th>\n",
       "      <td>82630669</td>\n",
       "      <td>Tecnomapas</td>\n",
       "      <td>Recepcionista</td>\n",
       "      <td>Ex-funcionário(a), mais de um ano</td>\n",
       "      <td>Não tive nenhum ponto negativo</td>\n",
       "      <td>2023-12-15</td>\n",
       "      <td>5.0</td>\n",
       "      <td>0</td>\n",
       "      <td>1</td>\n",
       "      <td>0</td>\n",
       "      <td>Neutro</td>\n",
       "      <td>3</td>\n",
       "    </tr>\n",
       "  </tbody>\n",
       "</table>\n",
       "</div>"
      ],
      "text/plain": [
       "   review_id     company  employee_role                    employee_detail  \\\n",
       "0   82630669  Tecnomapas  Recepcionista  Ex-funcionário(a), mais de um ano   \n",
       "1   82630669  Tecnomapas  Recepcionista  Ex-funcionário(a), mais de um ano   \n",
       "\n",
       "                                         review_text review_date  star_rating  \\\n",
       "0  Companheirismo entre os colegas, oportunidade ...  2023-12-15          5.0   \n",
       "1                     Não tive nenhum ponto negativo  2023-12-15          5.0   \n",
       "\n",
       "   sentiment  annotated  predicted_sentiment predicted_sentiment_label  \\\n",
       "0          1          0                    1                  Positivo   \n",
       "1          0          1                    0                    Neutro   \n",
       "\n",
       "   predicted_sentiment_plot  \n",
       "0                         1  \n",
       "1                         3  "
      ]
     },
     "execution_count": 10,
     "metadata": {},
     "output_type": "execute_result"
    }
   ],
   "source": [
    "reviews_df.head(2)"
   ]
  },
  {
   "cell_type": "code",
   "execution_count": 11,
   "metadata": {},
   "outputs": [],
   "source": [
    "reviews_count_df = reviews_df.groupby([\"company\"])[\"review_text\"].count()"
   ]
  },
  {
   "cell_type": "code",
   "execution_count": 12,
   "metadata": {},
   "outputs": [],
   "source": [
    "reviews_count_df = reviews_count_df.reset_index()\n",
    "reviews_count_df.columns = [\n",
    "    \"company\",\n",
    "    \"reviews_count\",\n",
    "]"
   ]
  },
  {
   "cell_type": "code",
   "execution_count": 13,
   "metadata": {},
   "outputs": [],
   "source": [
    "reviews_df = pd.merge(\n",
    "    left=reviews_df,\n",
    "    right=reviews_count_df,\n",
    "    on=\"company\",\n",
    "    how=\"left\",\n",
    ")"
   ]
  },
  {
   "cell_type": "code",
   "execution_count": 14,
   "metadata": {},
   "outputs": [],
   "source": [
    "predicted_sentiment_plot_by_company_df = (\n",
    "    reviews_df.groupby([\"company\", \"predicted_sentiment_plot\"])[\"review_text\"]\n",
    "    .count()\n",
    "    .unstack(fill_value=0)\n",
    ")"
   ]
  },
  {
   "cell_type": "code",
   "execution_count": 15,
   "metadata": {},
   "outputs": [],
   "source": [
    "predicted_sentiment_plot_by_company_df = (\n",
    "    predicted_sentiment_plot_by_company_df.reset_index()\n",
    ")"
   ]
  },
  {
   "cell_type": "code",
   "execution_count": 16,
   "metadata": {},
   "outputs": [],
   "source": [
    "predicted_sentiment_plot_by_company_df.columns = [\n",
    "    \"company\",\n",
    "    \"1positive\",\n",
    "    \"2negative\",\n",
    "    \"3neutral\",\n",
    "]"
   ]
  },
  {
   "cell_type": "code",
   "execution_count": 17,
   "metadata": {},
   "outputs": [],
   "source": [
    "predicted_sentiment_plot_by_company_df[\"sentiment_diff\"] = (\n",
    "    predicted_sentiment_plot_by_company_df[\"1positive\"]\n",
    "    - predicted_sentiment_plot_by_company_df[\"2negative\"]\n",
    ")"
   ]
  },
  {
   "cell_type": "code",
   "execution_count": 18,
   "metadata": {},
   "outputs": [
    {
     "data": {
      "text/html": [
       "<div>\n",
       "<style scoped>\n",
       "    .dataframe tbody tr th:only-of-type {\n",
       "        vertical-align: middle;\n",
       "    }\n",
       "\n",
       "    .dataframe tbody tr th {\n",
       "        vertical-align: top;\n",
       "    }\n",
       "\n",
       "    .dataframe thead th {\n",
       "        text-align: right;\n",
       "    }\n",
       "</style>\n",
       "<table border=\"1\" class=\"dataframe\">\n",
       "  <thead>\n",
       "    <tr style=\"text-align: right;\">\n",
       "      <th></th>\n",
       "      <th>company</th>\n",
       "      <th>1positive</th>\n",
       "      <th>2negative</th>\n",
       "      <th>3neutral</th>\n",
       "      <th>sentiment_diff</th>\n",
       "    </tr>\n",
       "  </thead>\n",
       "  <tbody>\n",
       "    <tr>\n",
       "      <th>0</th>\n",
       "      <td>Abaco Tecnologia de Informação Ltda</td>\n",
       "      <td>52</td>\n",
       "      <td>46</td>\n",
       "      <td>12</td>\n",
       "      <td>6</td>\n",
       "    </tr>\n",
       "    <tr>\n",
       "      <th>1</th>\n",
       "      <td>Agenda Assessoria</td>\n",
       "      <td>46</td>\n",
       "      <td>38</td>\n",
       "      <td>12</td>\n",
       "      <td>8</td>\n",
       "    </tr>\n",
       "    <tr>\n",
       "      <th>2</th>\n",
       "      <td>Amaggi</td>\n",
       "      <td>444</td>\n",
       "      <td>339</td>\n",
       "      <td>73</td>\n",
       "      <td>105</td>\n",
       "    </tr>\n",
       "    <tr>\n",
       "      <th>3</th>\n",
       "      <td>Cigam Software Corporativo</td>\n",
       "      <td>178</td>\n",
       "      <td>131</td>\n",
       "      <td>45</td>\n",
       "      <td>47</td>\n",
       "    </tr>\n",
       "    <tr>\n",
       "      <th>4</th>\n",
       "      <td>Coplan Consultoria e Planejamento</td>\n",
       "      <td>15</td>\n",
       "      <td>13</td>\n",
       "      <td>4</td>\n",
       "      <td>2</td>\n",
       "    </tr>\n",
       "  </tbody>\n",
       "</table>\n",
       "</div>"
      ],
      "text/plain": [
       "                               company  1positive  2negative  3neutral  \\\n",
       "0  Abaco Tecnologia de Informação Ltda         52         46        12   \n",
       "1                    Agenda Assessoria         46         38        12   \n",
       "2                               Amaggi        444        339        73   \n",
       "3           Cigam Software Corporativo        178        131        45   \n",
       "4    Coplan Consultoria e Planejamento         15         13         4   \n",
       "\n",
       "   sentiment_diff  \n",
       "0               6  \n",
       "1               8  \n",
       "2             105  \n",
       "3              47  \n",
       "4               2  "
      ]
     },
     "execution_count": 18,
     "metadata": {},
     "output_type": "execute_result"
    }
   ],
   "source": [
    "predicted_sentiment_plot_by_company_df.head()"
   ]
  },
  {
   "cell_type": "code",
   "execution_count": 19,
   "metadata": {},
   "outputs": [],
   "source": [
    "predicted_sentiment_plot_by_company_df = (\n",
    "    predicted_sentiment_plot_by_company_df.sort_values(\n",
    "        by=\"sentiment_diff\", ascending=False\n",
    "    ).reset_index()\n",
    ")"
   ]
  },
  {
   "cell_type": "code",
   "execution_count": 20,
   "metadata": {},
   "outputs": [],
   "source": [
    "predicted_sentiment_plot_by_company_df = predicted_sentiment_plot_by_company_df.drop(\n",
    "    labels=\"index\", axis=1\n",
    ")"
   ]
  },
  {
   "cell_type": "code",
   "execution_count": 21,
   "metadata": {},
   "outputs": [],
   "source": [
    "bad_rating_companies = get_bad_rating_companies(predicted_sentiment_plot_by_company_df)"
   ]
  },
  {
   "cell_type": "code",
   "execution_count": 22,
   "metadata": {},
   "outputs": [],
   "source": [
    "good_rating_companies = get_good_rating_companies(\n",
    "    predicted_sentiment_plot_by_company_df\n",
    ")"
   ]
  },
  {
   "cell_type": "code",
   "execution_count": 23,
   "metadata": {},
   "outputs": [],
   "source": [
    "neutral_rating_companies = get_neutral_rating_companies(\n",
    "    predicted_sentiment_plot_by_company_df\n",
    ")"
   ]
  },
  {
   "cell_type": "code",
   "execution_count": 24,
   "metadata": {},
   "outputs": [],
   "source": [
    "reviews_30_plus_df = pd.merge(\n",
    "    left=reviews_df,\n",
    "    right=predicted_sentiment_plot_by_company_df,\n",
    "    on=\"company\",\n",
    "    how=\"left\",\n",
    ")"
   ]
  },
  {
   "cell_type": "code",
   "execution_count": 25,
   "metadata": {},
   "outputs": [],
   "source": [
    "reviews_30_plus_df = reviews_30_plus_df.sort_values(\n",
    "    by=\"sentiment_diff\", ascending=False\n",
    ").reset_index()"
   ]
  },
  {
   "cell_type": "code",
   "execution_count": 26,
   "metadata": {},
   "outputs": [],
   "source": [
    "reviews_30_plus_df = reviews_30_plus_df[\n",
    "    reviews_30_plus_df[\"reviews_count\"] >= MIN_REVIEWS\n",
    "]"
   ]
  },
  {
   "cell_type": "code",
   "execution_count": 27,
   "metadata": {},
   "outputs": [],
   "source": [
    "conditions = [\n",
    "    (reviews_30_plus_df[\"predicted_sentiment_plot\"] == 1),  # Positive\n",
    "    (reviews_30_plus_df[\"predicted_sentiment_plot\"] == 2),  # Negative\n",
    "    (reviews_30_plus_df[\"predicted_sentiment_plot\"] == 3),  # Neutral\n",
    "]"
   ]
  },
  {
   "cell_type": "code",
   "execution_count": 28,
   "metadata": {},
   "outputs": [],
   "source": [
    "values = [\n",
    "    reviews_30_plus_df[\"1positive\"],\n",
    "    reviews_30_plus_df[\"2negative\"],\n",
    "    reviews_30_plus_df[\"3neutral\"],\n",
    "]"
   ]
  },
  {
   "cell_type": "code",
   "execution_count": 29,
   "metadata": {},
   "outputs": [],
   "source": [
    "reviews_30_plus_df[\"sentiment_count\"] = np.select(conditions, values, default=0)"
   ]
  },
  {
   "cell_type": "code",
   "execution_count": 30,
   "metadata": {},
   "outputs": [],
   "source": [
    "top_good_bad_companies_by_sentiment_diff = reviews_30_plus_df[\n",
    "    (\n",
    "        reviews_30_plus_df[\"company\"].isin(good_rating_companies[:5])\n",
    "        | reviews_30_plus_df[\"company\"].isin(bad_rating_companies[:5])\n",
    "    )\n",
    "]"
   ]
  },
  {
   "cell_type": "code",
   "execution_count": 31,
   "metadata": {},
   "outputs": [],
   "source": [
    "top_positive_companies_df = top_good_bad_companies_by_sentiment_diff[\n",
    "    top_good_bad_companies_by_sentiment_diff[\"sentiment_diff\"] > 0\n",
    "]"
   ]
  },
  {
   "cell_type": "code",
   "execution_count": 32,
   "metadata": {},
   "outputs": [],
   "source": [
    "top_positive_companies_df = top_positive_companies_df.sort_values(\n",
    "    # by=\"reviews_count\", ascending=False\n",
    "    by=[\"sentiment_diff\", \"reviews_count\"],\n",
    "    ascending=False,\n",
    ").reset_index()"
   ]
  },
  {
   "cell_type": "code",
   "execution_count": 33,
   "metadata": {},
   "outputs": [],
   "source": [
    "top_negative_companies_df = top_good_bad_companies_by_sentiment_diff[\n",
    "    top_good_bad_companies_by_sentiment_diff[\"sentiment_diff\"] < 0\n",
    "]"
   ]
  },
  {
   "cell_type": "code",
   "execution_count": 34,
   "metadata": {},
   "outputs": [],
   "source": [
    "top_negative_companies_df = top_negative_companies_df.sort_values(\n",
    "    # by=\"reviews_count\", ascending=False\n",
    "    by=[\"sentiment_diff\", \"reviews_count\"],\n",
    "    ascending=True,\n",
    ").reset_index()"
   ]
  },
  {
   "cell_type": "code",
   "execution_count": 35,
   "metadata": {},
   "outputs": [
    {
     "data": {
      "image/png": "[encoded data removed]",
      "text/plain": [
       "<Figure size 1000x800 with 2 Axes>"
      ]
     },
     "metadata": {},
     "output_type": "display_data"
    }
   ],
   "source": [
    "fig, ax = plt.subplots(2, figsize=(10, 8))\n",
    "\n",
    "# Barplots\n",
    "sns.barplot(\n",
    "    data=top_positive_companies_df,\n",
    "    x=\"sentiment_count\",\n",
    "    y=\"company\",\n",
    "    hue=\"predicted_sentiment_plot\",\n",
    "    palette=[\n",
    "        ReportConfig.POSITIVE_SENTIMENT_COLOR,\n",
    "        ReportConfig.NEGATIVE_SENTIMENT_COLOR,\n",
    "        ReportConfig.NEUTRAL_SENTIMENT_COLOR,\n",
    "    ],\n",
    "    ax=ax[0],\n",
    "    width=0.9,\n",
    "    orient=\"h\",\n",
    ")\n",
    "\n",
    "sns.barplot(\n",
    "    data=top_negative_companies_df,\n",
    "    x=\"sentiment_count\",\n",
    "    y=\"company\",\n",
    "    hue=\"predicted_sentiment_plot\",\n",
    "    palette=[\n",
    "        ReportConfig.POSITIVE_SENTIMENT_COLOR,\n",
    "        ReportConfig.NEGATIVE_SENTIMENT_COLOR,\n",
    "        ReportConfig.NEUTRAL_SENTIMENT_COLOR,\n",
    "    ],\n",
    "    ax=ax[1],\n",
    "    width=0.9,\n",
    "    orient=\"h\",\n",
    ")\n",
    "\n",
    "# Annotates\n",
    "for p in ax[0].patches:\n",
    "    ax[0].annotate(\n",
    "        text=f\"{p.get_width():.0f}\",\n",
    "        xy=(p.get_width() + 10, (p.get_y() + p.get_height() / 2) + 0.02),\n",
    "        ha=\"center\",\n",
    "        va=\"center\",\n",
    "        fontsize=6,\n",
    "        color=\"black\",\n",
    "        xytext=(0, 0),\n",
    "        textcoords=\"offset points\",\n",
    "    )\n",
    "\n",
    "for p in ax[1].patches:\n",
    "    ax[1].annotate(\n",
    "        text=f\"{p.get_width():.0f}\",\n",
    "        xy=(p.get_width() + 2, (p.get_y() + p.get_height() / 2) + 0.02),\n",
    "        ha=\"center\",\n",
    "        va=\"center\",\n",
    "        fontsize=6,\n",
    "        color=\"black\",\n",
    "        xytext=(0, 0),\n",
    "        textcoords=\"offset points\",\n",
    "    )\n",
    "\n",
    "# Axes config\n",
    "ax[0].set_xlabel(\"\")\n",
    "ax[1].set_xlabel(\"\")\n",
    "\n",
    "ax[0].set_xticks([])\n",
    "ax[1].set_xticks([])\n",
    "\n",
    "ax[0].set_ylabel(\"\")\n",
    "ax[1].set_ylabel(\"\")\n",
    "\n",
    "ax[0].set_title(\n",
    "    \"Ranking de avaliações positivas por empresa\",\n",
    "    fontsize=ReportConfig.CHART_TITLE_FONT_SIZE,\n",
    "    y=1.1,\n",
    ")\n",
    "\n",
    "ax[1].set_title(\n",
    "    \"Ranking de avaliações negativas por empresa\",\n",
    "    fontsize=ReportConfig.CHART_TITLE_FONT_SIZE,\n",
    "    y=1.1,\n",
    ")\n",
    "\n",
    "ax[0].spines[\"top\"].set_visible(False)\n",
    "ax[0].spines[\"right\"].set_visible(False)\n",
    "ax[0].spines[\"bottom\"].set_visible(False)\n",
    "\n",
    "ax[1].spines[\"top\"].set_visible(False)\n",
    "ax[1].spines[\"right\"].set_visible(False)\n",
    "ax[1].spines[\"bottom\"].set_visible(False)\n",
    "\n",
    "positive_patch = plt.Rectangle((0, 0), 1, 1, fc=ReportConfig.POSITIVE_SENTIMENT_COLOR)\n",
    "negative_patch = plt.Rectangle((0, 0), 1, 1, fc=ReportConfig.NEGATIVE_SENTIMENT_COLOR)\n",
    "neutral_patch = plt.Rectangle((0, 0), 1, 1, fc=ReportConfig.NEUTRAL_SENTIMENT_COLOR)\n",
    "\n",
    "ax[0].legend(\n",
    "    handles=[positive_patch, negative_patch, neutral_patch],\n",
    "    labels=[\"Positivo\", \"Negativo\", \"Neutro\"],\n",
    "    title=\"Sentimento\",\n",
    "    bbox_to_anchor=(-0.3, 1),\n",
    "    # loc=\"upper center\"\n",
    ")\n",
    "\n",
    "ax[1].get_legend().remove()\n",
    "\n",
    "plt.show()"
   ]
  },
  {
   "cell_type": "code",
   "execution_count": 36,
   "metadata": {},
   "outputs": [
    {
     "data": {
      "image/png": "[encoded data removed]",
      "text/plain": [
       "<Figure size 1000x800 with 1 Axes>"
      ]
     },
     "metadata": {},
     "output_type": "display_data"
    }
   ],
   "source": [
    "fig, ax = plt.subplots(1, figsize=(10, 8))\n",
    "\n",
    "# Barplots\n",
    "sns.barplot(\n",
    "    data=top_positive_companies_df,\n",
    "    x=\"sentiment_count\",\n",
    "    y=\"company\",\n",
    "    hue=\"predicted_sentiment_plot\",\n",
    "    palette=[\n",
    "        ReportConfig.POSITIVE_SENTIMENT_COLOR,\n",
    "        ReportConfig.NEGATIVE_SENTIMENT_COLOR,\n",
    "        ReportConfig.NEUTRAL_SENTIMENT_COLOR,\n",
    "    ],\n",
    "    ax=ax,\n",
    "    width=0.9,\n",
    "    orient=\"h\",\n",
    ")\n",
    "\n",
    "# Annotates\n",
    "for p in ax.patches:\n",
    "    ax.annotate(\n",
    "        text=f\"{p.get_width():.0f}\",\n",
    "        xy=(p.get_width() + 10, (p.get_y() + p.get_height() / 2) + 0.02),\n",
    "        ha=\"center\",\n",
    "        va=\"center\",\n",
    "        fontsize=6,\n",
    "        color=\"black\",\n",
    "        xytext=(0, 0),\n",
    "        textcoords=\"offset points\",\n",
    "    )\n",
    "\n",
    "# Axes config\n",
    "ax.set_xlabel(\"\")\n",
    "\n",
    "ax.set_xticks([])\n",
    "\n",
    "ax.set_ylabel(\"\")\n",
    "\n",
    "ax.set_title(\n",
    "    \"Ranking de Avaliações Positivas por Empresa\",\n",
    "    fontsize=ReportConfig.CHART_TITLE_FONT_SIZE,\n",
    "    y=1.1,\n",
    ")\n",
    "\n",
    "ax.spines[\"top\"].set_visible(False)\n",
    "ax.spines[\"right\"].set_visible(False)\n",
    "ax.spines[\"bottom\"].set_visible(False)\n",
    "\n",
    "\n",
    "positive_patch = plt.Rectangle((0, 0), 1, 1, fc=ReportConfig.POSITIVE_SENTIMENT_COLOR)\n",
    "negative_patch = plt.Rectangle((0, 0), 1, 1, fc=ReportConfig.NEGATIVE_SENTIMENT_COLOR)\n",
    "neutral_patch = plt.Rectangle((0, 0), 1, 1, fc=ReportConfig.NEUTRAL_SENTIMENT_COLOR)\n",
    "\n",
    "ax.legend(\n",
    "    # title=\"Sentimento\",\n",
    "    handles=[positive_patch, negative_patch, neutral_patch],\n",
    "    labels=[\"Positivo\", \"Negativo\", \"Neutro\"],\n",
    "    bbox_to_anchor=(0.5, 1.1),\n",
    "    loc=\"upper center\",\n",
    "    edgecolor=\"1\",\n",
    "    ncols=3,\n",
    ")\n",
    "\n",
    "# ax.legend.get_frame().set_facecolor(\"none\")\n",
    "\n",
    "plt.show()"
   ]
  },
  {
   "cell_type": "code",
   "execution_count": 37,
   "metadata": {},
   "outputs": [
    {
     "data": {
      "image/png": "[encoded data removed]",
      "text/plain": [
       "<Figure size 1000x800 with 1 Axes>"
      ]
     },
     "metadata": {},
     "output_type": "display_data"
    }
   ],
   "source": [
    "fig, ax = plt.subplots(1, figsize=(10, 8))\n",
    "\n",
    "# Barplots\n",
    "sns.barplot(\n",
    "    data=top_negative_companies_df,\n",
    "    x=\"sentiment_count\",\n",
    "    y=\"company\",\n",
    "    hue=\"predicted_sentiment_plot\",\n",
    "    palette=[\n",
    "        ReportConfig.POSITIVE_SENTIMENT_COLOR,\n",
    "        ReportConfig.NEGATIVE_SENTIMENT_COLOR,\n",
    "        ReportConfig.NEUTRAL_SENTIMENT_COLOR,\n",
    "    ],\n",
    "    ax=ax,\n",
    "    width=0.9,\n",
    "    orient=\"h\",\n",
    ")\n",
    "\n",
    "# Annotates\n",
    "for p in ax.patches:\n",
    "    ax.annotate(\n",
    "        text=f\"{p.get_width():.0f}\",\n",
    "        xy=(p.get_width() + 2, (p.get_y() + p.get_height() / 2) + 0.02),\n",
    "        ha=\"center\",\n",
    "        va=\"center\",\n",
    "        fontsize=6,\n",
    "        color=\"black\",\n",
    "        xytext=(0, 0),\n",
    "        textcoords=\"offset points\",\n",
    "    )\n",
    "\n",
    "    ax.annotate(\n",
    "        text=f\"{p.get_width():.0f}\",\n",
    "        xy=(p.get_width() + 2, (p.get_y() + p.get_height() / 2) + 0.02),\n",
    "        ha=\"center\",\n",
    "        va=\"center\",\n",
    "        fontsize=6,\n",
    "        color=\"black\",\n",
    "        xytext=(0, 0),\n",
    "        textcoords=\"offset points\",\n",
    "    )\n",
    "\n",
    "# Axes config\n",
    "ax.set_xlabel(\"\")\n",
    "\n",
    "ax.set_xticks([])\n",
    "\n",
    "ax.set_ylabel(\"\")\n",
    "\n",
    "ax.set_title(\n",
    "    \"Ranking de avaliações negativas por empresa\",\n",
    "    fontsize=ReportConfig.CHART_TITLE_FONT_SIZE,\n",
    "    y=1.1,\n",
    ")\n",
    "\n",
    "ax.spines[\"top\"].set_visible(False)\n",
    "ax.spines[\"right\"].set_visible(False)\n",
    "ax.spines[\"bottom\"].set_visible(False)\n",
    "\n",
    "\n",
    "positive_patch = plt.Rectangle((0, 0), 1, 1, fc=ReportConfig.POSITIVE_SENTIMENT_COLOR)\n",
    "negative_patch = plt.Rectangle((0, 0), 1, 1, fc=ReportConfig.NEGATIVE_SENTIMENT_COLOR)\n",
    "neutral_patch = plt.Rectangle((0, 0), 1, 1, fc=ReportConfig.NEUTRAL_SENTIMENT_COLOR)\n",
    "\n",
    "ax.legend(\n",
    "    # title=\"Sentimento\",\n",
    "    handles=[positive_patch, negative_patch, neutral_patch],\n",
    "    labels=[\"Positivo\", \"Negativo\", \"Neutro\"],\n",
    "    bbox_to_anchor=(0.5, 1.1),\n",
    "    loc=\"upper center\",\n",
    "    edgecolor=\"1\",\n",
    "    ncols=3,\n",
    ")\n",
    "\n",
    "plt.show()"
   ]
  }
 ],
 "metadata": {
  "kernelspec": {
   "display_name": "venv_sent_analysis",
   "language": "python",
   "name": "python3"
  },
  "language_info": {
   "codemirror_mode": {
    "name": "ipython",
    "version": 3
   },
   "file_extension": ".py",
   "mimetype": "text/x-python",
   "name": "python",
   "nbconvert_exporter": "python",
   "pygments_lexer": "ipython3",
   "version": "3.11.7"
  }
 },
 "nbformat": 4,
 "nbformat_minor": 2
}
